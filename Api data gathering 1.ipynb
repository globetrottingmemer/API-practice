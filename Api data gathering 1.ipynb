{
 "cells": [
  {
   "cell_type": "code",
   "execution_count": 1,
   "id": "0b9a0f28",
   "metadata": {},
   "outputs": [],
   "source": [
    "import pandas as pd\n",
    "import requests"
   ]
  },
  {
   "cell_type": "code",
   "execution_count": 2,
   "id": "016ffaaa",
   "metadata": {},
   "outputs": [],
   "source": [
    "response = requests.get('https://api.themoviedb.org/3/movie/popular?api_key=2564dac439ddc809aca9f4cd9a2b76e6&language=en-US&page=1')"
   ]
  },
  {
   "cell_type": "code",
   "execution_count": 3,
   "id": "a67c28ec",
   "metadata": {},
   "outputs": [
    {
     "data": {
      "text/html": [
       "<div>\n",
       "<style scoped>\n",
       "    .dataframe tbody tr th:only-of-type {\n",
       "        vertical-align: middle;\n",
       "    }\n",
       "\n",
       "    .dataframe tbody tr th {\n",
       "        vertical-align: top;\n",
       "    }\n",
       "\n",
       "    .dataframe thead th {\n",
       "        text-align: right;\n",
       "    }\n",
       "</style>\n",
       "<table border=\"1\" class=\"dataframe\">\n",
       "  <thead>\n",
       "    <tr style=\"text-align: right;\">\n",
       "      <th></th>\n",
       "      <th>adult</th>\n",
       "      <th>backdrop_path</th>\n",
       "      <th>genre_ids</th>\n",
       "      <th>id</th>\n",
       "      <th>original_language</th>\n",
       "      <th>original_title</th>\n",
       "      <th>overview</th>\n",
       "      <th>popularity</th>\n",
       "      <th>poster_path</th>\n",
       "      <th>release_date</th>\n",
       "      <th>title</th>\n",
       "      <th>video</th>\n",
       "      <th>vote_average</th>\n",
       "      <th>vote_count</th>\n",
       "    </tr>\n",
       "  </thead>\n",
       "  <tbody>\n",
       "    <tr>\n",
       "      <th>0</th>\n",
       "      <td>False</td>\n",
       "      <td>/wcKFYIiVDvRURrzglV9kGu7fpfY.jpg</td>\n",
       "      <td>[14, 28, 12]</td>\n",
       "      <td>453395</td>\n",
       "      <td>en</td>\n",
       "      <td>Doctor Strange in the Multiverse of Madness</td>\n",
       "      <td>Doctor Strange, with the help of mystical alli...</td>\n",
       "      <td>16751.010</td>\n",
       "      <td>/9Gtg2DzBhmYamXBS1hKAhiwbBKS.jpg</td>\n",
       "      <td>2022-05-04</td>\n",
       "      <td>Doctor Strange in the Multiverse of Madness</td>\n",
       "      <td>False</td>\n",
       "      <td>7.5</td>\n",
       "      <td>3518</td>\n",
       "    </tr>\n",
       "    <tr>\n",
       "      <th>1</th>\n",
       "      <td>False</td>\n",
       "      <td>/zGLHX92Gk96O1DJvLil7ObJTbaL.jpg</td>\n",
       "      <td>[14, 12, 28]</td>\n",
       "      <td>338953</td>\n",
       "      <td>en</td>\n",
       "      <td>Fantastic Beasts: The Secrets of Dumbledore</td>\n",
       "      <td>Professor Albus Dumbledore knows the powerful,...</td>\n",
       "      <td>4038.798</td>\n",
       "      <td>/jrgifaYeUtTnaH7NF5Drkgjg2MB.jpg</td>\n",
       "      <td>2022-04-06</td>\n",
       "      <td>Fantastic Beasts: The Secrets of Dumbledore</td>\n",
       "      <td>False</td>\n",
       "      <td>6.8</td>\n",
       "      <td>2057</td>\n",
       "    </tr>\n",
       "  </tbody>\n",
       "</table>\n",
       "</div>"
      ],
      "text/plain": [
       "   adult                     backdrop_path     genre_ids      id  \\\n",
       "0  False  /wcKFYIiVDvRURrzglV9kGu7fpfY.jpg  [14, 28, 12]  453395   \n",
       "1  False  /zGLHX92Gk96O1DJvLil7ObJTbaL.jpg  [14, 12, 28]  338953   \n",
       "\n",
       "  original_language                               original_title  \\\n",
       "0                en  Doctor Strange in the Multiverse of Madness   \n",
       "1                en  Fantastic Beasts: The Secrets of Dumbledore   \n",
       "\n",
       "                                            overview  popularity  \\\n",
       "0  Doctor Strange, with the help of mystical alli...   16751.010   \n",
       "1  Professor Albus Dumbledore knows the powerful,...    4038.798   \n",
       "\n",
       "                        poster_path release_date  \\\n",
       "0  /9Gtg2DzBhmYamXBS1hKAhiwbBKS.jpg   2022-05-04   \n",
       "1  /jrgifaYeUtTnaH7NF5Drkgjg2MB.jpg   2022-04-06   \n",
       "\n",
       "                                         title  video  vote_average  \\\n",
       "0  Doctor Strange in the Multiverse of Madness  False           7.5   \n",
       "1  Fantastic Beasts: The Secrets of Dumbledore  False           6.8   \n",
       "\n",
       "   vote_count  \n",
       "0        3518  \n",
       "1        2057  "
      ]
     },
     "execution_count": 3,
     "metadata": {},
     "output_type": "execute_result"
    }
   ],
   "source": [
    "df= pd.DataFrame(response.json()['results'])\n",
    "df.head(2)"
   ]
  },
  {
   "cell_type": "code",
   "execution_count": null,
   "id": "981055a3",
   "metadata": {},
   "outputs": [],
   "source": [
    "df1= pd.DataFrame()\n",
    "\n",
    "\n",
    "for i in range(1,34093):\n",
    "    response = requests.get('https://api.themoviedb.org/3/movie/popular?api_key=2564dac439ddc809aca9f4cd9a2b76e6&language=en-US&page={}.format(i)')\n",
    "    tempdf = pd.DataFrame(response.json()['results'])\n",
    "    df1 = df1.append(tempdf, ignore_index = True)"
   ]
  },
  {
   "cell_type": "code",
   "execution_count": null,
   "id": "270ff3f4",
   "metadata": {},
   "outputs": [],
   "source": []
  }
 ],
 "metadata": {
  "kernelspec": {
   "display_name": "Python 3 (ipykernel)",
   "language": "python",
   "name": "python3"
  },
  "language_info": {
   "codemirror_mode": {
    "name": "ipython",
    "version": 3
   },
   "file_extension": ".py",
   "mimetype": "text/x-python",
   "name": "python",
   "nbconvert_exporter": "python",
   "pygments_lexer": "ipython3",
   "version": "3.9.7"
  }
 },
 "nbformat": 4,
 "nbformat_minor": 5
}
